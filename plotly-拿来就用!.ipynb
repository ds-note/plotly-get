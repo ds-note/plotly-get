{
 "cells": [
  {
   "attachments": {},
   "cell_type": "markdown",
   "metadata": {},
   "source": [
    "## Plotly简介\n",
    "\n",
    "Plotly是一个交互式的数据可视化开发Python库\n",
    "\n",
    "Plotly支持Jupyter Notebook及纯html格式\n",
    "\n",
    "Plotly与matplotlib/seaborn相比，拥有很强的交互能力"
   ]
  },
  {
   "cell_type": "markdown",
   "metadata": {},
   "source": [
    "## 导入所需的库\n",
    "\n",
    "Plotly有两种绘图选项：\n",
    "- high level 的 plotly.express\n",
    "- low level 的 plotly.graph_objects"
   ]
  },
  {
   "cell_type": "code",
   "execution_count": 1,
   "metadata": {},
   "outputs": [],
   "source": [
    "import pandas as pd\n",
    "import numpy as np\n",
    "\n",
    "import plotly.express as px\n",
    "import plotly.graph_objects as go  "
   ]
  },
  {
   "cell_type": "markdown",
   "metadata": {},
   "source": [
    "## 数据集\n",
    "\n",
    "plotly包含很多常用数据集，方便测试可视化"
   ]
  },
  {
   "cell_type": "markdown",
   "metadata": {},
   "source": [
    "### Gapminder 数据集\n",
    "Gapminder 是一家瑞典的非盈利机构，它收集并公开了关于世界的经济、教育、环境、健康等专题数据。每一行是一个国家的数据。\n",
    "\n",
    "一位统计学家 Hans Rosling 曾在一个TED演讲中利用gapminder可视化，揭示了很多令人震撼的事实。 演讲名称：The best stats you've ever seen\n",
    "\n",
    "Gapminder数据集包含了1952年-2007年期间，142个国家或行政区(例如香港台湾)，数据包括：\n",
    "- 人民平均寿命(lifeExp)\n",
    "- 人口数量(pop)\n",
    "- 人均GDP(gdpPercap)\n",
    "- 所属的洲(continent)\n",
    "\n",
    "等等，每隔5年收集一次，每个国家12条记录"
   ]
  },
  {
   "cell_type": "code",
   "execution_count": 2,
   "metadata": {},
   "outputs": [
    {
     "data": {
      "text/html": [
       "<div>\n",
       "<style scoped>\n",
       "    .dataframe tbody tr th:only-of-type {\n",
       "        vertical-align: middle;\n",
       "    }\n",
       "\n",
       "    .dataframe tbody tr th {\n",
       "        vertical-align: top;\n",
       "    }\n",
       "\n",
       "    .dataframe thead th {\n",
       "        text-align: right;\n",
       "    }\n",
       "</style>\n",
       "<table border=\"1\" class=\"dataframe\">\n",
       "  <thead>\n",
       "    <tr style=\"text-align: right;\">\n",
       "      <th></th>\n",
       "      <th>country</th>\n",
       "      <th>continent</th>\n",
       "      <th>year</th>\n",
       "      <th>lifeExp</th>\n",
       "      <th>pop</th>\n",
       "      <th>gdpPercap</th>\n",
       "      <th>iso_alpha</th>\n",
       "      <th>iso_num</th>\n",
       "    </tr>\n",
       "  </thead>\n",
       "  <tbody>\n",
       "    <tr>\n",
       "      <th>0</th>\n",
       "      <td>Afghanistan</td>\n",
       "      <td>Asia</td>\n",
       "      <td>1952</td>\n",
       "      <td>28.801</td>\n",
       "      <td>8425333</td>\n",
       "      <td>779.445314</td>\n",
       "      <td>AFG</td>\n",
       "      <td>4</td>\n",
       "    </tr>\n",
       "    <tr>\n",
       "      <th>1</th>\n",
       "      <td>Afghanistan</td>\n",
       "      <td>Asia</td>\n",
       "      <td>1957</td>\n",
       "      <td>30.332</td>\n",
       "      <td>9240934</td>\n",
       "      <td>820.853030</td>\n",
       "      <td>AFG</td>\n",
       "      <td>4</td>\n",
       "    </tr>\n",
       "    <tr>\n",
       "      <th>2</th>\n",
       "      <td>Afghanistan</td>\n",
       "      <td>Asia</td>\n",
       "      <td>1962</td>\n",
       "      <td>31.997</td>\n",
       "      <td>10267083</td>\n",
       "      <td>853.100710</td>\n",
       "      <td>AFG</td>\n",
       "      <td>4</td>\n",
       "    </tr>\n",
       "    <tr>\n",
       "      <th>3</th>\n",
       "      <td>Afghanistan</td>\n",
       "      <td>Asia</td>\n",
       "      <td>1967</td>\n",
       "      <td>34.020</td>\n",
       "      <td>11537966</td>\n",
       "      <td>836.197138</td>\n",
       "      <td>AFG</td>\n",
       "      <td>4</td>\n",
       "    </tr>\n",
       "    <tr>\n",
       "      <th>4</th>\n",
       "      <td>Afghanistan</td>\n",
       "      <td>Asia</td>\n",
       "      <td>1972</td>\n",
       "      <td>36.088</td>\n",
       "      <td>13079460</td>\n",
       "      <td>739.981106</td>\n",
       "      <td>AFG</td>\n",
       "      <td>4</td>\n",
       "    </tr>\n",
       "  </tbody>\n",
       "</table>\n",
       "</div>"
      ],
      "text/plain": [
       "       country continent  year  lifeExp       pop   gdpPercap iso_alpha  \\\n",
       "0  Afghanistan      Asia  1952   28.801   8425333  779.445314       AFG   \n",
       "1  Afghanistan      Asia  1957   30.332   9240934  820.853030       AFG   \n",
       "2  Afghanistan      Asia  1962   31.997  10267083  853.100710       AFG   \n",
       "3  Afghanistan      Asia  1967   34.020  11537966  836.197138       AFG   \n",
       "4  Afghanistan      Asia  1972   36.088  13079460  739.981106       AFG   \n",
       "\n",
       "   iso_num  \n",
       "0        4  \n",
       "1        4  \n",
       "2        4  \n",
       "3        4  \n",
       "4        4  "
      ]
     },
     "execution_count": 2,
     "metadata": {},
     "output_type": "execute_result"
    }
   ],
   "source": [
    "gapminder = px.data.gapminder() \n",
    "gapminder.head()"
   ]
  },
  {
   "cell_type": "code",
   "execution_count": 3,
   "metadata": {},
   "outputs": [
    {
     "data": {
      "text/plain": [
       "array([1952, 1957, 1962, 1967, 1972, 1977, 1982, 1987, 1992, 1997, 2002,\n",
       "       2007])"
      ]
     },
     "execution_count": 3,
     "metadata": {},
     "output_type": "execute_result"
    }
   ],
   "source": [
    "# 1952-2007 每隔5年的数据\n",
    "gapminder.year.unique()"
   ]
  },
  {
   "cell_type": "code",
   "execution_count": 4,
   "metadata": {},
   "outputs": [
    {
     "data": {
      "text/plain": [
       "Congo, Rep.    12\n",
       "Iraq           12\n",
       "Ecuador        12\n",
       "Kuwait         12\n",
       "Costa Rica     12\n",
       "               ..\n",
       "Niger          12\n",
       "Hungary        12\n",
       "Israel         12\n",
       "Gabon          12\n",
       "Montenegro     12\n",
       "Name: country, Length: 142, dtype: int64"
      ]
     },
     "execution_count": 4,
     "metadata": {},
     "output_type": "execute_result"
    }
   ],
   "source": [
    "# 142个国家\n",
    "gapminder.country.value_counts()"
   ]
  },
  {
   "cell_type": "markdown",
   "metadata": {},
   "source": [
    "#### Tips数据集\n",
    "Tips数据集是一个服务员记的小费历史，一共244条，包括：\n",
    "- 账单(total_bill)\n",
    "- 收到的小费(tip)\n",
    "- 顾客性别(sex)\n",
    "- 天气情况(day)\n",
    "- 时间(time)\n",
    "- 就餐人数(size)"
   ]
  },
  {
   "cell_type": "code",
   "execution_count": 5,
   "metadata": {},
   "outputs": [
    {
     "data": {
      "text/html": [
       "<div>\n",
       "<style scoped>\n",
       "    .dataframe tbody tr th:only-of-type {\n",
       "        vertical-align: middle;\n",
       "    }\n",
       "\n",
       "    .dataframe tbody tr th {\n",
       "        vertical-align: top;\n",
       "    }\n",
       "\n",
       "    .dataframe thead th {\n",
       "        text-align: right;\n",
       "    }\n",
       "</style>\n",
       "<table border=\"1\" class=\"dataframe\">\n",
       "  <thead>\n",
       "    <tr style=\"text-align: right;\">\n",
       "      <th></th>\n",
       "      <th>total_bill</th>\n",
       "      <th>tip</th>\n",
       "      <th>sex</th>\n",
       "      <th>smoker</th>\n",
       "      <th>day</th>\n",
       "      <th>time</th>\n",
       "      <th>size</th>\n",
       "    </tr>\n",
       "  </thead>\n",
       "  <tbody>\n",
       "    <tr>\n",
       "      <th>0</th>\n",
       "      <td>16.99</td>\n",
       "      <td>1.01</td>\n",
       "      <td>Female</td>\n",
       "      <td>No</td>\n",
       "      <td>Sun</td>\n",
       "      <td>Dinner</td>\n",
       "      <td>2</td>\n",
       "    </tr>\n",
       "    <tr>\n",
       "      <th>1</th>\n",
       "      <td>10.34</td>\n",
       "      <td>1.66</td>\n",
       "      <td>Male</td>\n",
       "      <td>No</td>\n",
       "      <td>Sun</td>\n",
       "      <td>Dinner</td>\n",
       "      <td>3</td>\n",
       "    </tr>\n",
       "    <tr>\n",
       "      <th>2</th>\n",
       "      <td>21.01</td>\n",
       "      <td>3.50</td>\n",
       "      <td>Male</td>\n",
       "      <td>No</td>\n",
       "      <td>Sun</td>\n",
       "      <td>Dinner</td>\n",
       "      <td>3</td>\n",
       "    </tr>\n",
       "    <tr>\n",
       "      <th>3</th>\n",
       "      <td>23.68</td>\n",
       "      <td>3.31</td>\n",
       "      <td>Male</td>\n",
       "      <td>No</td>\n",
       "      <td>Sun</td>\n",
       "      <td>Dinner</td>\n",
       "      <td>2</td>\n",
       "    </tr>\n",
       "    <tr>\n",
       "      <th>4</th>\n",
       "      <td>24.59</td>\n",
       "      <td>3.61</td>\n",
       "      <td>Female</td>\n",
       "      <td>No</td>\n",
       "      <td>Sun</td>\n",
       "      <td>Dinner</td>\n",
       "      <td>4</td>\n",
       "    </tr>\n",
       "  </tbody>\n",
       "</table>\n",
       "</div>"
      ],
      "text/plain": [
       "   total_bill   tip     sex smoker  day    time  size\n",
       "0       16.99  1.01  Female     No  Sun  Dinner     2\n",
       "1       10.34  1.66    Male     No  Sun  Dinner     3\n",
       "2       21.01  3.50    Male     No  Sun  Dinner     3\n",
       "3       23.68  3.31    Male     No  Sun  Dinner     2\n",
       "4       24.59  3.61  Female     No  Sun  Dinner     4"
      ]
     },
     "execution_count": 5,
     "metadata": {},
     "output_type": "execute_result"
    }
   ],
   "source": [
    "tips = px.data.tips()  \n",
    "tips.head()"
   ]
  },
  {
   "cell_type": "markdown",
   "metadata": {},
   "source": [
    "#### Iris鸢尾花数据集\n",
    "Iris鸢尾花数据集是一个经典数据集，在统计学习和机器学习领域都经常被用作示例。数据集内包含 3 类共 150 条记录，每类各 50 个数据，每条记录都有 4 项特征：\n",
    "- 花萼长度(sepal_length)\n",
    "- 花萼宽度(sepal_width)\n",
    "- 花瓣长度(petal_length)\n",
    "- 花瓣宽度(petal_width)\n",
    "\n",
    "可以通过这4个特征预测鸢尾花卉属于下列哪个品种(species)\n",
    "\n",
    "- setosa\n",
    "- versicolour\n",
    "- virginica"
   ]
  },
  {
   "cell_type": "code",
   "execution_count": 6,
   "metadata": {},
   "outputs": [
    {
     "data": {
      "text/html": [
       "<div>\n",
       "<style scoped>\n",
       "    .dataframe tbody tr th:only-of-type {\n",
       "        vertical-align: middle;\n",
       "    }\n",
       "\n",
       "    .dataframe tbody tr th {\n",
       "        vertical-align: top;\n",
       "    }\n",
       "\n",
       "    .dataframe thead th {\n",
       "        text-align: right;\n",
       "    }\n",
       "</style>\n",
       "<table border=\"1\" class=\"dataframe\">\n",
       "  <thead>\n",
       "    <tr style=\"text-align: right;\">\n",
       "      <th></th>\n",
       "      <th>sepal_length</th>\n",
       "      <th>sepal_width</th>\n",
       "      <th>petal_length</th>\n",
       "      <th>petal_width</th>\n",
       "      <th>species</th>\n",
       "      <th>species_id</th>\n",
       "    </tr>\n",
       "  </thead>\n",
       "  <tbody>\n",
       "    <tr>\n",
       "      <th>0</th>\n",
       "      <td>5.1</td>\n",
       "      <td>3.5</td>\n",
       "      <td>1.4</td>\n",
       "      <td>0.2</td>\n",
       "      <td>setosa</td>\n",
       "      <td>1</td>\n",
       "    </tr>\n",
       "    <tr>\n",
       "      <th>1</th>\n",
       "      <td>4.9</td>\n",
       "      <td>3.0</td>\n",
       "      <td>1.4</td>\n",
       "      <td>0.2</td>\n",
       "      <td>setosa</td>\n",
       "      <td>1</td>\n",
       "    </tr>\n",
       "    <tr>\n",
       "      <th>2</th>\n",
       "      <td>4.7</td>\n",
       "      <td>3.2</td>\n",
       "      <td>1.3</td>\n",
       "      <td>0.2</td>\n",
       "      <td>setosa</td>\n",
       "      <td>1</td>\n",
       "    </tr>\n",
       "    <tr>\n",
       "      <th>3</th>\n",
       "      <td>4.6</td>\n",
       "      <td>3.1</td>\n",
       "      <td>1.5</td>\n",
       "      <td>0.2</td>\n",
       "      <td>setosa</td>\n",
       "      <td>1</td>\n",
       "    </tr>\n",
       "    <tr>\n",
       "      <th>4</th>\n",
       "      <td>5.0</td>\n",
       "      <td>3.6</td>\n",
       "      <td>1.4</td>\n",
       "      <td>0.2</td>\n",
       "      <td>setosa</td>\n",
       "      <td>1</td>\n",
       "    </tr>\n",
       "  </tbody>\n",
       "</table>\n",
       "</div>"
      ],
      "text/plain": [
       "   sepal_length  sepal_width  petal_length  petal_width species  species_id\n",
       "0           5.1          3.5           1.4          0.2  setosa           1\n",
       "1           4.9          3.0           1.4          0.2  setosa           1\n",
       "2           4.7          3.2           1.3          0.2  setosa           1\n",
       "3           4.6          3.1           1.5          0.2  setosa           1\n",
       "4           5.0          3.6           1.4          0.2  setosa           1"
      ]
     },
     "execution_count": 6,
     "metadata": {},
     "output_type": "execute_result"
    }
   ],
   "source": [
    "iris = px.data.iris() \n",
    "iris.head()"
   ]
  },
  {
   "cell_type": "markdown",
   "metadata": {},
   "source": [
    "#### Stocks 股票数据\n",
    "\n",
    "Stocks，一份股票数据，包含Google、Amazon、Facebook、Netflix及Microsoft几家公司，从2018-01-01到2019-12-30的股票数据，每周一个记录"
   ]
  },
  {
   "cell_type": "code",
   "execution_count": 7,
   "metadata": {},
   "outputs": [
    {
     "ename": "NameError",
     "evalue": "name 'stock' is not defined",
     "output_type": "error",
     "traceback": [
      "\u001b[0;31m---------------------------------------------------------------------------\u001b[0m",
      "\u001b[0;31mNameError\u001b[0m                                 Traceback (most recent call last)",
      "\u001b[0;32m<ipython-input-7-b270f67c3857>\u001b[0m in \u001b[0;36m<module>\u001b[0;34m\u001b[0m\n\u001b[0;32m----> 1\u001b[0;31m \u001b[0mstock\u001b[0m\u001b[0;34m.\u001b[0m\u001b[0mhead\u001b[0m\u001b[0;34m(\u001b[0m\u001b[0;34m)\u001b[0m\u001b[0;34m\u001b[0m\u001b[0;34m\u001b[0m\u001b[0m\n\u001b[0m",
      "\u001b[0;31mNameError\u001b[0m: name 'stock' is not defined"
     ]
    }
   ],
   "source": [
    "stock.head()"
   ]
  },
  {
   "cell_type": "code",
   "execution_count": null,
   "metadata": {},
   "outputs": [],
   "source": [
    "stock = px.data.stocks()\n",
    "stock.head()"
   ]
  },
  {
   "cell_type": "markdown",
   "metadata": {},
   "source": [
    "#### 风力风向数据\n",
    "- direction 风向\n",
    "- strength 风力\n",
    "- frequency 频率"
   ]
  },
  {
   "cell_type": "code",
   "execution_count": null,
   "metadata": {},
   "outputs": [],
   "source": [
    "wind = px.data.wind()\n",
    "wind.head()"
   ]
  },
  {
   "cell_type": "markdown",
   "metadata": {},
   "source": [
    "## 开始画图"
   ]
  },
  {
   "cell_type": "markdown",
   "metadata": {},
   "source": [
    "### 散点图 scatter"
   ]
  },
  {
   "cell_type": "code",
   "execution_count": null,
   "metadata": {},
   "outputs": [],
   "source": [
    "df = gapminder[gapminder[\"year\"] == 1952]"
   ]
  },
  {
   "cell_type": "code",
   "execution_count": null,
   "metadata": {},
   "outputs": [],
   "source": [
    "px.scatter(df,   # 传入的数据集\n",
    "           x=\"gdpPercap\", # x轴\n",
    "           y=\"lifeExp\", # y轴\n",
    "           color=\"continent\",  # 根据洲的值来取\n",
    "           size=\"pop\",\n",
    "           size_max=50\n",
    "          )"
   ]
  },
  {
   "cell_type": "markdown",
   "metadata": {},
   "source": [
    "### 柱状图 bar\n",
    "查看中国的人口变化"
   ]
  },
  {
   "cell_type": "code",
   "execution_count": null,
   "metadata": {},
   "outputs": [],
   "source": [
    "cn  = gapminder[gapminder[\"country\"] == \"China\"]\n",
    "cn "
   ]
  },
  {
   "cell_type": "markdown",
   "metadata": {},
   "source": [
    "high level"
   ]
  },
  {
   "cell_type": "code",
   "execution_count": null,
   "metadata": {},
   "outputs": [],
   "source": [
    "fig = px.bar(cn,x=\"year\",y=\"pop\")\n",
    "\n",
    "fig.show()"
   ]
  },
  {
   "cell_type": "markdown",
   "metadata": {},
   "source": [
    "low level"
   ]
  },
  {
   "cell_type": "code",
   "execution_count": null,
   "metadata": {
    "scrolled": false
   },
   "outputs": [],
   "source": [
    "fig = go.Figure(\n",
    "    data = (\n",
    "        go.Bar(x=cn[\"year\"],\n",
    "               y=cn[\"pop\"]\n",
    "          )\n",
    "    )\n",
    ")\n",
    "\n",
    "fig.show()"
   ]
  },
  {
   "cell_type": "markdown",
   "metadata": {},
   "source": [
    "### 直线图 line\n",
    "\n",
    "可视化展示Amazon的股票变化\n",
    "\n",
    "high level"
   ]
  },
  {
   "cell_type": "code",
   "execution_count": null,
   "metadata": {},
   "outputs": [],
   "source": [
    "fig = px.line(stock, x='date', y=\"AMZN\")  \n",
    "\n",
    "fig.show()"
   ]
  },
  {
   "cell_type": "markdown",
   "metadata": {},
   "source": [
    "low level"
   ]
  },
  {
   "cell_type": "code",
   "execution_count": null,
   "metadata": {},
   "outputs": [],
   "source": [
    "fig = go.Figure(data=[go.Line(\n",
    "    x=stock['date'], \n",
    "    y=stock[\"AMZN\"]\n",
    ")])\n",
    "\n",
    "fig.show()"
   ]
  },
  {
   "cell_type": "markdown",
   "metadata": {},
   "source": [
    "同一张画布画出多条数据"
   ]
  },
  {
   "cell_type": "code",
   "execution_count": null,
   "metadata": {},
   "outputs": [],
   "source": [
    "stock"
   ]
  },
  {
   "cell_type": "code",
   "execution_count": null,
   "metadata": {},
   "outputs": [],
   "source": [
    "# 准备画布\n",
    "fig = go.Figure()\n",
    "\n",
    "\n",
    "fig.add_trace(go.Scatter(  #\n",
    "    x=stock['date'],\n",
    "    y=stock[\"AMZN\"],\n",
    "    mode='lines',\n",
    "    name='AMZN'))\n",
    "\n",
    "fig.add_trace(go.Scatter(  #\n",
    "    x=stock['date'],\n",
    "    y=stock[\"AAPL\"],\n",
    "    mode='lines',\n",
    "    name='AAPL'))\n",
    "\n",
    "fig.add_trace(go.Scatter(  #\n",
    "    x=stock['date'],\n",
    "    y=stock[\"GOOG\"],\n",
    "    mode='lines',\n",
    "    name='GOOG'))\n",
    "\n",
    "fig.show()"
   ]
  },
  {
   "cell_type": "markdown",
   "metadata": {},
   "source": [
    "### 面积图(area)\n",
    "\n",
    "画出中国、日本与美国，3个国家平均寿命的变化"
   ]
  },
  {
   "cell_type": "code",
   "execution_count": null,
   "metadata": {},
   "outputs": [],
   "source": [
    "gapminder.head()"
   ]
  },
  {
   "cell_type": "code",
   "execution_count": null,
   "metadata": {},
   "outputs": [],
   "source": [
    "gapminder.country.unique()"
   ]
  },
  {
   "cell_type": "code",
   "execution_count": null,
   "metadata": {},
   "outputs": [],
   "source": [
    "df = gapminder[(gapminder.country == 'China') | (gapminder.country ==  'United States') | (gapminder.country ==  'Japan')]"
   ]
  },
  {
   "cell_type": "code",
   "execution_count": null,
   "metadata": {},
   "outputs": [],
   "source": [
    "px.area(df,  \n",
    "        x=\"year\",\n",
    "        y=\"lifeExp\",\n",
    "        color=\"country\")"
   ]
  },
  {
   "cell_type": "markdown",
   "metadata": {},
   "source": [
    "复杂一定，根据大洲为颜色，来看一下每个国家的情况"
   ]
  },
  {
   "cell_type": "code",
   "execution_count": null,
   "metadata": {},
   "outputs": [],
   "source": [
    "px.area(gapminder,\n",
    "        x=\"year\",\n",
    "        y=\"lifeExp\",\n",
    "        color=\"continent\",\n",
    "        line_group=\"country\"\n",
    "       )"
   ]
  },
  {
   "cell_type": "markdown",
   "metadata": {},
   "source": [
    "### 饼图 pie\n",
    "\n",
    "tips数据集中，服务员周几得到的小费更多？"
   ]
  },
  {
   "cell_type": "code",
   "execution_count": null,
   "metadata": {},
   "outputs": [],
   "source": [
    "tips.head()  # 查看前5行数据"
   ]
  },
  {
   "cell_type": "markdown",
   "metadata": {},
   "source": [
    "根据星期(day)来分组，统计小费(tip)的和"
   ]
  },
  {
   "cell_type": "code",
   "execution_count": null,
   "metadata": {},
   "outputs": [],
   "source": [
    "tip_in_week = tips.groupby(by=\"day\")[\"tip\"].sum().reset_index()\n",
    "tip_in_week"
   ]
  },
  {
   "cell_type": "markdown",
   "metadata": {},
   "source": [
    "high level"
   ]
  },
  {
   "cell_type": "code",
   "execution_count": null,
   "metadata": {},
   "outputs": [],
   "source": [
    "px.pie(tip_in_week, \n",
    "       names=\"day\", # 分组依据\n",
    "       values=\"tip\" #要算的值\n",
    "      )"
   ]
  },
  {
   "cell_type": "markdown",
   "metadata": {},
   "source": [
    "low level"
   ]
  },
  {
   "cell_type": "code",
   "execution_count": null,
   "metadata": {},
   "outputs": [],
   "source": [
    "fig = go.Figure(data=go.Pie(\n",
    "    labels=tip_in_week[\"day\"].tolist(),\n",
    "    values=tip_in_week[\"tip\"].tolist()\n",
    "))\n",
    "\n",
    "fig.show()"
   ]
  },
  {
   "cell_type": "markdown",
   "metadata": {},
   "source": [
    "### 旭日图 sunburst\n",
    "\n",
    "旭日图是升级版的饼图，可以展示多层比例，假设，在数据分析任务中，我们想同时知道下面内容\n",
    "- 用饼图展示：每个大洲2007年的人口比例\n",
    "- 用饼图展示：每个国家2007年的人口比例，以及其在自己所在大洲中的比例\n",
    "- 用颜色展示：每个国家2007年的平均年龄情况\n",
    "\n",
    "不废话，直接上代码！"
   ]
  },
  {
   "cell_type": "code",
   "execution_count": null,
   "metadata": {},
   "outputs": [],
   "source": [
    "df = gapminder[gapminder[\"year\"] == 2007]\n",
    "\n",
    "px.sunburst(df, \n",
    "            path=['continent', 'country'],  # 一次发散，第一层为洲，第二层为国家\n",
    "            values='pop', # 饼图比例根据人口\n",
    "            color='lifeExp',  # 颜色展示根据\n",
    "            hover_data=['country'] # 数据的标签，也可以选择默认不填\n",
    "           )"
   ]
  },
  {
   "cell_type": "markdown",
   "metadata": {},
   "source": [
    "### 漏斗图 funnel\n",
    "\n",
    "漏斗图常用于数据分析，比如分析用户的转化率，根据不同stage来计算用户流失的比例，\n",
    "假设如下场景：\n",
    "\n",
    "- 10000个人下载app\n",
    "- 9000个人注册账号\n",
    "- 5000个人完成实名认证\n",
    "- 3000个人浏览商品\n",
    "- 1000个人加购物车\n",
    "- 100个人下单\n",
    "- 98个人付费\n",
    "\n",
    "那么我们来绘制一下漏斗图"
   ]
  },
  {
   "cell_type": "code",
   "execution_count": null,
   "metadata": {},
   "outputs": [],
   "source": [
    "df = pd.DataFrame()\n",
    "df['number'] = [10000, 9000, 5000, 3000, 1000, 100, 98]\n",
    "\n",
    "df['stage'] = [\"下载\", \"注册\", \"实名认证\", \"浏览\", \"加购\", \"下单\", \"付费\"]\n",
    "\n",
    "# 传入数据和数轴\n",
    "px.funnel(data, \n",
    "          x=\"number\", \n",
    "          y=\"stage\",\n",
    "          color=\"number\"  # 颜色设置\n",
    "         )"
   ]
  },
  {
   "cell_type": "markdown",
   "metadata": {},
   "source": [
    "### 联合分布图\n",
    "\n",
    "在画散点图的时候，同时可以画一下联合分布\n",
    "分布的展示可以使用\n",
    "- `'rug'`\n",
    "- `'box'`\n",
    "- `'violin'`\n",
    "- `'histogram'`"
   ]
  },
  {
   "cell_type": "code",
   "execution_count": null,
   "metadata": {},
   "outputs": [],
   "source": [
    "px.scatter(\n",
    "    gapminder,\n",
    "    x=\"pop\",\n",
    "    y=\"lifeExp\",\n",
    "    color=\"continent\",\n",
    "    marginal_x=\"violin\", # 直方图的形式\n",
    "    marginal_y=\"box\") # \n",
    "\n"
   ]
  },
  {
   "cell_type": "markdown",
   "metadata": {},
   "source": [
    "### 小提琴图 violin\n",
    "\n",
    "小提琴图可以画出概率分布"
   ]
  },
  {
   "cell_type": "code",
   "execution_count": null,
   "metadata": {},
   "outputs": [],
   "source": [
    "px.violin(gapminder,\n",
    "           y=\"lifeExp\",\n",
    "           color=\"continent\")"
   ]
  },
  {
   "cell_type": "markdown",
   "metadata": {},
   "source": [
    "### 散点矩阵图 scatter_matrix\n",
    "\n",
    "散点矩阵图可以展示不同变量的相关性，假设我们要看不同大洲的 平均寿命、人口数量、平均GDP相关的关系，可以用下面代码实现"
   ]
  },
  {
   "cell_type": "code",
   "execution_count": null,
   "metadata": {},
   "outputs": [],
   "source": [
    "px.scatter_matrix(gapminder,\n",
    "                  dimensions=[\"lifeExp\",\"pop\",\"gdpPercap\"],\n",
    "                  color=\"continent\")"
   ]
  },
  {
   "cell_type": "markdown",
   "metadata": {},
   "source": [
    "### 并行类别图 parallel_categories\n",
    "\n",
    "并行类别图可以查看不同类别组合的比例"
   ]
  },
  {
   "cell_type": "code",
   "execution_count": null,
   "metadata": {},
   "outputs": [],
   "source": [
    "px.parallel_categories(\n",
    "    tips,\n",
    "    color=\"size\",\n",
    "    color_continuous_scale=px.colors.sequential.Inferno\n",
    ")"
   ]
  },
  {
   "cell_type": "markdown",
   "metadata": {},
   "source": [
    "### 并行坐标图 parallel_coordinates\n",
    "\n",
    "并行坐标图可以清晰的看到样本随着特征的变化"
   ]
  },
  {
   "cell_type": "code",
   "execution_count": null,
   "metadata": {},
   "outputs": [],
   "source": [
    "px.parallel_coordinates(iris,\n",
    "                        color=\"species_id\",\n",
    "                        labels={\"sepal_width\",\n",
    "                               \"sepal_length\",\n",
    "                               \"petal_length\",\n",
    "                               \"petal_width\"},\n",
    "                       color_continuous_scale=px.colors.diverging.Tealrose,\n",
    "                       color_continuous_midpoint=2)"
   ]
  },
  {
   "cell_type": "markdown",
   "metadata": {},
   "source": [
    "### 密度图和等高线 density_contour\n",
    "\n",
    "density_contour也可以利用`margin_x`或者`margin_y`来可视化相关性，margin可以选择：\n",
    "\n",
    "- `'rug'`\n",
    "- `'box'`\n",
    "- `'violin'`\n",
    "- `'histogram'`"
   ]
  },
  {
   "cell_type": "code",
   "execution_count": null,
   "metadata": {},
   "outputs": [],
   "source": [
    "px.density_contour(iris,\n",
    "                   x=\"sepal_width\",\n",
    "                   y=\"sepal_length\",\n",
    "                   color=\"species\",\n",
    "                   marginal_x=\"violin\",\n",
    "                   marginal_y=\"histogram\"   \n",
    "                  )"
   ]
  },
  {
   "cell_type": "markdown",
   "metadata": {},
   "source": [
    "### 密度热力图 density_heatmap\n",
    "\n",
    "density_heatmap也可以利用`margin_x`或者`margin_y`来可视化相关性，margin可以选择：\n",
    "\n",
    "- `'rug'`\n",
    "- `'box'`\n",
    "- `'violin'`\n",
    "- `'histogram'`"
   ]
  },
  {
   "cell_type": "code",
   "execution_count": null,
   "metadata": {},
   "outputs": [],
   "source": [
    "px.density_heatmap(iris,\n",
    "                   x=\"sepal_width\",\n",
    "                   y=\"sepal_length\",\n",
    "                   marginal_y=\"violin\",\n",
    "                   marginal_x=\"histogram\"\n",
    "                  )"
   ]
  },
  {
   "cell_type": "markdown",
   "metadata": {},
   "source": [
    "### 直方图 histogram"
   ]
  },
  {
   "cell_type": "markdown",
   "metadata": {},
   "source": [
    "直方图可以设置barmode，包括\n",
    "- `'group'`：分组\n",
    "- `'overlay'`：叠在一起\n",
    "- `'relative'`：相关图"
   ]
  },
  {
   "cell_type": "code",
   "execution_count": null,
   "metadata": {},
   "outputs": [],
   "source": [
    "px.histogram(\n",
    "    tips,\n",
    "    x=\"sex\", # x轴类别\n",
    "    y=\"tip\", # y轴类别\n",
    "    histfunc=\"avg\",  # 直方图函数：均值\n",
    "    color=\"smoker\",  # 颜色取值\n",
    "    barmode=\"overlay\",  # 柱状图的模式\n",
    "    facet_row=\"time\",  # 横纵纵轴的字段设置\n",
    "    facet_col=\"day\",\n",
    "    category_orders={\"day\":[\"Thur\",\"Fri\",\"Sat\",\"Sun\"],  # 分类\n",
    "                     \"time\":[\"Lunch\",\"Dinner\"]})"
   ]
  },
  {
   "cell_type": "markdown",
   "metadata": {},
   "source": [
    "### 基于地图绘图 choropleth"
   ]
  },
  {
   "cell_type": "code",
   "execution_count": null,
   "metadata": {},
   "outputs": [],
   "source": [
    "px.choropleth(gapminder,\n",
    "              locations=\"iso_alpha\", # 根据国家编号确定位置\n",
    "              color=\"lifeExp\", # 根据lifeExp绘制颜色\n",
    "              hover_name=\"country\", # label为国家\n",
    "              animation_frame=\"year\", # 根据年来滑动\n",
    "              color_continuous_scale=px.colors.sequential.Plasma,\n",
    "              projection=\"natural earth\") "
   ]
  },
  {
   "cell_type": "markdown",
   "metadata": {},
   "source": [
    "### 3D地球仪 line_geo"
   ]
  },
  {
   "cell_type": "code",
   "execution_count": null,
   "metadata": {},
   "outputs": [],
   "source": [
    "df = gapminder[gapminder[\"year\"] == 2007]\n",
    "\n",
    "px.scatter_geo(\n",
    "    df,\n",
    "    locations=\"iso_alpha\",\n",
    "    color=\"continent\",\n",
    "    size=\"pop\",\n",
    "    projection=\"orthographic\",\n",
    "    hover_name=\"country\",\n",
    "    size_max=50\n",
    ")"
   ]
  },
  {
   "cell_type": "markdown",
   "metadata": {},
   "source": [
    "### 矩阵式树状图 treemap\n",
    "\n",
    "其中，为了有一个框来包含全部的值，设定了一个`px.Constant('world')`"
   ]
  },
  {
   "cell_type": "code",
   "execution_count": null,
   "metadata": {
    "code_folding": []
   },
   "outputs": [],
   "source": [
    "df = gapminder[gapminder[\"year\"] == 2007]\n",
    "\n",
    "px.treemap(\n",
    "    df, # 数据\n",
    "    path=[px.Constant('world'), 'continent', 'country'],   # 包含关系：world->continent->country\n",
    "    values='pop',  # 数据的取值\n",
    "    color='pop',   # 颜色的取值\n",
    ")"
   ]
  },
  {
   "cell_type": "markdown",
   "metadata": {},
   "source": [
    "### 极坐标散点图"
   ]
  },
  {
   "cell_type": "code",
   "execution_count": null,
   "metadata": {},
   "outputs": [],
   "source": [
    "px.scatter_polar(\n",
    "    wind,\n",
    "    r=\"frequency\",  # 半径取值\n",
    "    theta=\"direction\",   # 方向取值\n",
    "    color=\"strength\",  # 颜色取值\n",
    "    symbol=\"strength\",  # 符号取值\n",
    "    color_discrete_sequence=px.colors.sequential.Plasma_r\n",
    ")"
   ]
  },
  {
   "cell_type": "markdown",
   "metadata": {},
   "source": [
    "### 极坐标柱状图"
   ]
  },
  {
   "cell_type": "code",
   "execution_count": null,
   "metadata": {},
   "outputs": [],
   "source": [
    "fig = px.bar_polar(\n",
    "    wind, \n",
    "    r=\"frequency\",\n",
    "    theta=\"direction\",\n",
    "    color=\"strength\",\n",
    "    color_discrete_sequence=px.colors.sequential.Plasma_r)\n",
    "fig.show()"
   ]
  }
 ],
 "metadata": {
  "hide_input": false,
  "kernelspec": {
   "display_name": "conda_python3",
   "language": "python",
   "name": "conda_python3"
  },
  "language_info": {
   "codemirror_mode": {
    "name": "ipython",
    "version": 3
   },
   "file_extension": ".py",
   "mimetype": "text/x-python",
   "name": "python",
   "nbconvert_exporter": "python",
   "pygments_lexer": "ipython3",
   "version": "3.6.13"
  },
  "latex_envs": {
   "LaTeX_envs_menu_present": true,
   "autoclose": false,
   "autocomplete": true,
   "bibliofile": "biblio.bib",
   "cite_by": "apalike",
   "current_citInitial": 1,
   "eqLabelWithNumbers": true,
   "eqNumInitial": 1,
   "hotkeys": {
    "equation": "Ctrl-E",
    "itemize": "Ctrl-I"
   },
   "labels_anchors": false,
   "latex_user_defs": false,
   "report_style_numbering": false,
   "user_envs_cfg": false
  },
  "nbTranslate": {
   "displayLangs": [
    "*"
   ],
   "hotkey": "alt-t",
   "langInMainMenu": true,
   "sourceLang": "en",
   "targetLang": "fr",
   "useGoogleTranslate": true
  },
  "toc": {
   "base_numbering": 1,
   "nav_menu": {},
   "number_sections": true,
   "sideBar": true,
   "skip_h1_title": false,
   "title_cell": "Table of Contents",
   "title_sidebar": "Contents",
   "toc_cell": false,
   "toc_position": {},
   "toc_section_display": true,
   "toc_window_display": true
  },
  "varInspector": {
   "cols": {
    "lenName": 16,
    "lenType": 16,
    "lenVar": 40
   },
   "kernels_config": {
    "python": {
     "delete_cmd_postfix": "",
     "delete_cmd_prefix": "del ",
     "library": "var_list.py",
     "varRefreshCmd": "print(var_dic_list())"
    },
    "r": {
     "delete_cmd_postfix": ") ",
     "delete_cmd_prefix": "rm(",
     "library": "var_list.r",
     "varRefreshCmd": "cat(var_dic_list()) "
    }
   },
   "types_to_exclude": [
    "module",
    "function",
    "builtin_function_or_method",
    "instance",
    "_Feature"
   ],
   "window_display": false
  }
 },
 "nbformat": 4,
 "nbformat_minor": 2
}
